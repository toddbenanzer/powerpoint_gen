{
 "cells": [
  {
   "cell_type": "markdown",
   "metadata": {},
   "source": [
    "# Embedded Donut Chart\n",
    "\n",
    "Example code generated using help from here: https://python-pptx.readthedocs.io/en/latest/user/charts.html"
   ]
  },
  {
   "cell_type": "code",
   "execution_count": 12,
   "metadata": {},
   "outputs": [],
   "source": [
    "from pptx import Presentation\n",
    "from pptx.chart.data import CategoryChartData\n",
    "from pptx.enum.chart import XL_CHART_TYPE\n",
    "from pptx.enum.chart import XL_TICK_MARK\n",
    "from pptx.util import Inches\n",
    "from pptx.dml.color import RGBColor\n",
    "from pptx.util import Pt\n",
    "\n",
    "import pandas as pd\n",
    "\n",
    "# open the presentation\n",
    "presentation = Presentation()"
   ]
  },
  {
   "cell_type": "code",
   "execution_count": 13,
   "metadata": {},
   "outputs": [
    {
     "name": "stdout",
     "output_type": "stream",
     "text": [
      "0 Title Slide\n",
      "1 Title and Content\n",
      "2 Section Header\n",
      "3 Two Content\n",
      "4 Comparison\n",
      "5 Title Only\n",
      "6 Blank\n",
      "7 Content with Caption\n",
      "8 Picture with Caption\n",
      "9 Title and Vertical Text\n",
      "10 Vertical Title and Text\n"
     ]
    }
   ],
   "source": [
    "# create a slide\n",
    "for i, sl in enumerate(presentation.slide_layouts):\n",
    "    print(i, sl.name)\n",
    "SLD_LAYOUT_TITLE_AND_CONTENT = 1\n",
    "SLD_LAYOUT_TITLE_ONLY = 5\n",
    "slide_layout = presentation.slide_layouts[SLD_LAYOUT_TITLE_ONLY]\n",
    "slide = presentation.slides.add_slide(slide_layout)"
   ]
  },
  {
   "cell_type": "code",
   "execution_count": 14,
   "metadata": {},
   "outputs": [
    {
     "name": "stdout",
     "output_type": "stream",
     "text": [
      "0 Title 1\n"
     ]
    }
   ],
   "source": [
    "# list placeholders\n",
    "for shape in slide.placeholders:\n",
    "    print('%d %s' % (shape.placeholder_format.idx, shape.name))"
   ]
  },
  {
   "cell_type": "code",
   "execution_count": 15,
   "metadata": {},
   "outputs": [],
   "source": [
    "# set the title\n",
    "title_placeholder = slide.shapes.title\n",
    "title_placeholder.text = 'Donut Chart'"
   ]
  },
  {
   "cell_type": "code",
   "execution_count": 16,
   "metadata": {},
   "outputs": [
    {
     "data": {
      "text/html": [
       "<div>\n",
       "<style scoped>\n",
       "    .dataframe tbody tr th:only-of-type {\n",
       "        vertical-align: middle;\n",
       "    }\n",
       "\n",
       "    .dataframe tbody tr th {\n",
       "        vertical-align: top;\n",
       "    }\n",
       "\n",
       "    .dataframe thead th {\n",
       "        text-align: right;\n",
       "    }\n",
       "</style>\n",
       "<table border=\"1\" class=\"dataframe\">\n",
       "  <thead>\n",
       "    <tr style=\"text-align: right;\">\n",
       "      <th></th>\n",
       "      <th>quarter</th>\n",
       "      <th>accounts</th>\n",
       "    </tr>\n",
       "  </thead>\n",
       "  <tbody>\n",
       "    <tr>\n",
       "      <th>0</th>\n",
       "      <td>Q1</td>\n",
       "      <td>14</td>\n",
       "    </tr>\n",
       "    <tr>\n",
       "      <th>1</th>\n",
       "      <td>Q2</td>\n",
       "      <td>26</td>\n",
       "    </tr>\n",
       "    <tr>\n",
       "      <th>2</th>\n",
       "      <td>Q3</td>\n",
       "      <td>82</td>\n",
       "    </tr>\n",
       "  </tbody>\n",
       "</table>\n",
       "</div>"
      ],
      "text/plain": [
       "  quarter  accounts\n",
       "0      Q1        14\n",
       "1      Q2        26\n",
       "2      Q3        82"
      ]
     },
     "execution_count": 16,
     "metadata": {},
     "output_type": "execute_result"
    }
   ],
   "source": [
    "# create the mock-up data\n",
    "df = pd.DataFrame({\n",
    "    'quarter': ['Q1', 'Q2', 'Q3'],\n",
    "    'accounts': [14, 26, 82]\n",
    "})\n",
    "\n",
    "colors = {}\n",
    "colors['Q1'] = '3C2F80'\n",
    "colors['Q2'] = 'B12F80'\n",
    "colors['Q3'] = 'B1B280'\n",
    "\n",
    "df"
   ]
  },
  {
   "cell_type": "code",
   "execution_count": 17,
   "metadata": {},
   "outputs": [
    {
     "data": {
      "text/plain": [
       "<pptx.chart.data.CategorySeriesData at 0x7fa0b550dc70>"
      ]
     },
     "execution_count": 17,
     "metadata": {},
     "output_type": "execute_result"
    }
   ],
   "source": [
    "# add the data to the chart element\n",
    "chart_data = CategoryChartData()\n",
    "chart_data.categories = df['quarter']\n",
    "chart_data.add_series('Accounts', df['accounts'])"
   ]
  },
  {
   "cell_type": "code",
   "execution_count": 18,
   "metadata": {},
   "outputs": [],
   "source": [
    "# create the chart\n",
    "x, y, cx, cy = Inches(2), Inches(2), Inches(6), Inches(4.5)\n",
    "chart = slide.shapes.add_chart(\n",
    "    XL_CHART_TYPE.DOUGHNUT, x, y, cx, cy, chart_data\n",
    ").chart"
   ]
  },
  {
   "cell_type": "code",
   "execution_count": 19,
   "metadata": {},
   "outputs": [],
   "source": [
    "# set the chart title\n",
    "chart.has_title = True\n",
    "chart.chart_title.has_text_frame = True\n",
    "chart.chart_title.text_frame.text = 'Accounts by Quarter'\n",
    "chart.chart_title.text_frame.paragraphs[0].font.name = 'Arial'\n",
    "chart.chart_title.text_frame.paragraphs[0].font.size = Pt(11)"
   ]
  },
  {
   "cell_type": "code",
   "execution_count": 21,
   "metadata": {},
   "outputs": [],
   "source": [
    "# add data labels\n",
    "plot = chart.plots[0]\n",
    "plot.has_data_labels = True\n",
    "data_labels = plot.data_labels\n",
    "data_labels.font.name = 'Arial'\n",
    "data_labels.font.size = Pt(11)\n",
    "data_labels.number_format = '0%'\n",
    "# data_labels.font.color.rgb = RGBColor.from_string(colors['Accounts'])"
   ]
  },
  {
   "cell_type": "code",
   "execution_count": 10,
   "metadata": {},
   "outputs": [],
   "source": [
    "for series in chart.series:\n",
    "    if series.name in colors:\n",
    "        fill = series.format.fill #fill the legend as well\n",
    "        fill.solid()\n",
    "        fill.fore_color.rgb = RGBColor.from_string(colors[series.name])"
   ]
  },
  {
   "cell_type": "code",
   "execution_count": null,
   "metadata": {},
   "outputs": [],
   "source": []
  },
  {
   "cell_type": "code",
   "execution_count": 11,
   "metadata": {},
   "outputs": [],
   "source": [
    "# save and close\n",
    "presentation.save('donut_chart.pptx')"
   ]
  },
  {
   "cell_type": "code",
   "execution_count": null,
   "metadata": {},
   "outputs": [],
   "source": []
  },
  {
   "cell_type": "code",
   "execution_count": null,
   "metadata": {},
   "outputs": [],
   "source": []
  },
  {
   "cell_type": "code",
   "execution_count": null,
   "metadata": {},
   "outputs": [],
   "source": []
  },
  {
   "cell_type": "code",
   "execution_count": null,
   "metadata": {},
   "outputs": [],
   "source": []
  },
  {
   "cell_type": "code",
   "execution_count": null,
   "metadata": {},
   "outputs": [],
   "source": []
  },
  {
   "cell_type": "code",
   "execution_count": 53,
   "metadata": {},
   "outputs": [],
   "source": [
    "# set gap width\n",
    "chart.plots[0].gap_width = 100"
   ]
  },
  {
   "cell_type": "code",
   "execution_count": 54,
   "metadata": {},
   "outputs": [],
   "source": [
    "# set the chart title\n",
    "chart.has_title = True\n",
    "chart.chart_title.has_text_frame = True\n",
    "chart.chart_title.text_frame.text = 'Accounts by Quarter'\n",
    "chart.chart_title.text_frame.paragraphs[0].font.name = 'Arial'\n",
    "chart.chart_title.text_frame.paragraphs[0].font.size = Pt(11)"
   ]
  },
  {
   "cell_type": "code",
   "execution_count": 55,
   "metadata": {},
   "outputs": [],
   "source": [
    "# update the axes\n",
    "category_axis = chart.category_axis\n",
    "category_axis.has_major_gridlines = False\n",
    "category_axis.major_tick_mark = XL_TICK_MARK.NONE\n",
    "category_axis.minor_tick_mark = XL_TICK_MARK.NONE\n",
    "category_axis.tick_labels.font.size = Pt(12)\n",
    "category_axis.tick_labels.font.name = 'Arial'\n",
    "category_axis.format.line.fill.background()\n",
    "\n",
    "value_axis = chart.value_axis\n",
    "#value_axis.maximum_scale = 50.0\n",
    "value_axis.major_tick_mark = XL_TICK_MARK.NONE\n",
    "value_axis.minor_tick_mark = XL_TICK_MARK.NONE\n",
    "value_axis.has_major_gridlines = False\n",
    "value_axis.has_minor_gridlines = False\n",
    "value_axis.visible = False\n",
    "\n",
    "tick_labels = value_axis.tick_labels\n",
    "#tick_labels.number_format = '0\"%\"'\n",
    "#tick_labels.font.bold = True\n",
    "#tick_labels.font.size = Pt(14)"
   ]
  },
  {
   "cell_type": "code",
   "execution_count": 56,
   "metadata": {},
   "outputs": [],
   "source": [
    "# add data labels\n",
    "plot = chart.plots[0]\n",
    "plot.has_data_labels = True\n",
    "data_labels = plot.data_labels\n",
    "data_labels.font.name = 'Arial'\n",
    "data_labels.font.size = Pt(11)\n",
    "data_labels.font.color.rgb = RGBColor.from_string(colors['Accounts'])"
   ]
  },
  {
   "cell_type": "code",
   "execution_count": 57,
   "metadata": {},
   "outputs": [],
   "source": [
    "for series in chart.series:\n",
    "    if series.name in colors:\n",
    "        fill = series.format.fill #fill the legend as well\n",
    "        fill.solid()\n",
    "        fill.fore_color.rgb = RGBColor.from_string(colors[series.name])"
   ]
  },
  {
   "cell_type": "code",
   "execution_count": 58,
   "metadata": {},
   "outputs": [],
   "source": [
    "# save and close\n",
    "presentation.save('bar_chart.pptx')"
   ]
  },
  {
   "cell_type": "code",
   "execution_count": null,
   "metadata": {},
   "outputs": [],
   "source": []
  }
 ],
 "metadata": {
  "kernelspec": {
   "display_name": "Python 3",
   "language": "python",
   "name": "python3"
  },
  "language_info": {
   "codemirror_mode": {
    "name": "ipython",
    "version": 3
   },
   "file_extension": ".py",
   "mimetype": "text/x-python",
   "name": "python",
   "nbconvert_exporter": "python",
   "pygments_lexer": "ipython3",
   "version": "3.12.3"
  }
 },
 "nbformat": 4,
 "nbformat_minor": 2
}
